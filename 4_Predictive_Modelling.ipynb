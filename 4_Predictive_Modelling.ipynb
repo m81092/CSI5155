{
 "cells": [
  {
   "cell_type": "markdown",
   "metadata": {},
   "source": [
    "### Import libraries"
   ]
  },
  {
   "cell_type": "code",
   "execution_count": 29,
   "metadata": {},
   "outputs": [
    {
     "name": "stderr",
     "output_type": "stream",
     "text": [
      "C:\\Users\\Admin\\Anaconda3\\lib\\site-packages\\sklearn\\externals\\joblib\\__init__.py:15: DeprecationWarning: sklearn.externals.joblib is deprecated in 0.21 and will be removed in 0.23. Please import this functionality directly from joblib, which can be installed with: pip install joblib. If this warning is raised when loading pickled models, you may need to re-serialize those models with scikit-learn 0.21+.\n",
      "  warnings.warn(msg, category=DeprecationWarning)\n"
     ]
    }
   ],
   "source": [
    "from scipy.stats import norm\n",
    "from sklearn import linear_model\n",
    "from sklearn.metrics import r2_score\n",
    "from sklearn.tree import DecisionTreeClassifier\n",
    "from sklearn.linear_model import LogisticRegression\n",
    "from sklearn.neighbors import KNeighborsClassifier\n",
    "from sklearn.dummy import DummyClassifier\n",
    "from sklearn.naive_bayes import MultinomialNB\n",
    "from sklearn.model_selection import train_test_split\n",
    "from sklearn import metrics\n",
    "from sklearn.model_selection import KFold\n",
    "from sklearn.preprocessing import MinMaxScaler\n",
    "from sklearn import preprocessing\n",
    "from sklearn.feature_selection import SelectKBest\n",
    "from sklearn.feature_selection import chi2\n",
    "from sklearn.ensemble import ExtraTreesClassifier\n",
    "from sklearn.svm import SVR\n",
    "from sklearn.model_selection import train_test_split, cross_val_score\n",
    "from sklearn import metrics\n",
    "from sklearn.metrics import classification_report , accuracy_score, confusion_matrix\n",
    "from sklearn.metrics import roc_curve, auc\n",
    "from sklearn.ensemble import RandomForestClassifier\n",
    "from sklearn.ensemble import AdaBoostClassifier\n",
    "from sklearn.feature_selection import RFE\n",
    "from sklearn.svm import LinearSVC\n",
    "from sklearn.discriminant_analysis import QuadraticDiscriminantAnalysis\n",
    "from scipy.stats import kurtosis, skew\n",
    "from sklearn.ensemble import RandomForestClassifier, BaggingClassifier, AdaBoostClassifier\n",
    "from sklearn.ensemble import GradientBoostingClassifier, VotingClassifier\n",
    "from sklearn.externals import joblib\n",
    "\n",
    "import time\n",
    "import matplotlib.pyplot as plt\n",
    "from matplotlib import pyplot\n",
    "from scipy import stats\n",
    "import numpy as np\n",
    "import pandas as pd\n",
    "import seaborn as sb\n",
    "import statistics\n",
    "import pprint\n",
    "import sys"
   ]
  },
  {
   "cell_type": "code",
   "execution_count": 9,
   "metadata": {},
   "outputs": [
    {
     "data": {
      "text/html": [
       "<div>\n",
       "<style scoped>\n",
       "    .dataframe tbody tr th:only-of-type {\n",
       "        vertical-align: middle;\n",
       "    }\n",
       "\n",
       "    .dataframe tbody tr th {\n",
       "        vertical-align: top;\n",
       "    }\n",
       "\n",
       "    .dataframe thead th {\n",
       "        text-align: right;\n",
       "    }\n",
       "</style>\n",
       "<table border=\"1\" class=\"dataframe\">\n",
       "  <thead>\n",
       "    <tr style=\"text-align: right;\">\n",
       "      <th></th>\n",
       "      <th>url</th>\n",
       "      <th>timedelta</th>\n",
       "      <th>n_tokens_title</th>\n",
       "      <th>n_tokens_content</th>\n",
       "      <th>n_unique_tokens</th>\n",
       "      <th>n_non_stop_words</th>\n",
       "      <th>n_non_stop_unique_tokens</th>\n",
       "      <th>num_hrefs</th>\n",
       "      <th>num_self_hrefs</th>\n",
       "      <th>num_imgs</th>\n",
       "      <th>...</th>\n",
       "      <th>min_positive_polarity</th>\n",
       "      <th>max_positive_polarity</th>\n",
       "      <th>avg_negative_polarity</th>\n",
       "      <th>min_negative_polarity</th>\n",
       "      <th>max_negative_polarity</th>\n",
       "      <th>title_subjectivity</th>\n",
       "      <th>title_sentiment_polarity</th>\n",
       "      <th>abs_title_subjectivity</th>\n",
       "      <th>abs_title_sentiment_polarity</th>\n",
       "      <th>shares</th>\n",
       "    </tr>\n",
       "  </thead>\n",
       "  <tbody>\n",
       "    <tr>\n",
       "      <th>0</th>\n",
       "      <td>http://mashable.com/2013/01/07/amazon-instant-...</td>\n",
       "      <td>731.0</td>\n",
       "      <td>12.0</td>\n",
       "      <td>219.0</td>\n",
       "      <td>0.663594</td>\n",
       "      <td>1.0</td>\n",
       "      <td>0.815385</td>\n",
       "      <td>4.0</td>\n",
       "      <td>2.0</td>\n",
       "      <td>1.0</td>\n",
       "      <td>...</td>\n",
       "      <td>0.100000</td>\n",
       "      <td>0.7</td>\n",
       "      <td>-0.350000</td>\n",
       "      <td>-0.600</td>\n",
       "      <td>-0.200000</td>\n",
       "      <td>0.500000</td>\n",
       "      <td>-0.187500</td>\n",
       "      <td>0.000000</td>\n",
       "      <td>0.187500</td>\n",
       "      <td>593</td>\n",
       "    </tr>\n",
       "    <tr>\n",
       "      <th>1</th>\n",
       "      <td>http://mashable.com/2013/01/07/ap-samsung-spon...</td>\n",
       "      <td>731.0</td>\n",
       "      <td>9.0</td>\n",
       "      <td>255.0</td>\n",
       "      <td>0.604743</td>\n",
       "      <td>1.0</td>\n",
       "      <td>0.791946</td>\n",
       "      <td>3.0</td>\n",
       "      <td>1.0</td>\n",
       "      <td>1.0</td>\n",
       "      <td>...</td>\n",
       "      <td>0.033333</td>\n",
       "      <td>0.7</td>\n",
       "      <td>-0.118750</td>\n",
       "      <td>-0.125</td>\n",
       "      <td>-0.100000</td>\n",
       "      <td>0.000000</td>\n",
       "      <td>0.000000</td>\n",
       "      <td>0.500000</td>\n",
       "      <td>0.000000</td>\n",
       "      <td>711</td>\n",
       "    </tr>\n",
       "    <tr>\n",
       "      <th>2</th>\n",
       "      <td>http://mashable.com/2013/01/07/apple-40-billio...</td>\n",
       "      <td>731.0</td>\n",
       "      <td>9.0</td>\n",
       "      <td>211.0</td>\n",
       "      <td>0.575130</td>\n",
       "      <td>1.0</td>\n",
       "      <td>0.663866</td>\n",
       "      <td>3.0</td>\n",
       "      <td>1.0</td>\n",
       "      <td>1.0</td>\n",
       "      <td>...</td>\n",
       "      <td>0.100000</td>\n",
       "      <td>1.0</td>\n",
       "      <td>-0.466667</td>\n",
       "      <td>-0.800</td>\n",
       "      <td>-0.133333</td>\n",
       "      <td>0.000000</td>\n",
       "      <td>0.000000</td>\n",
       "      <td>0.500000</td>\n",
       "      <td>0.000000</td>\n",
       "      <td>1500</td>\n",
       "    </tr>\n",
       "    <tr>\n",
       "      <th>3</th>\n",
       "      <td>http://mashable.com/2013/01/07/astronaut-notre...</td>\n",
       "      <td>731.0</td>\n",
       "      <td>9.0</td>\n",
       "      <td>531.0</td>\n",
       "      <td>0.503788</td>\n",
       "      <td>1.0</td>\n",
       "      <td>0.665635</td>\n",
       "      <td>9.0</td>\n",
       "      <td>0.0</td>\n",
       "      <td>1.0</td>\n",
       "      <td>...</td>\n",
       "      <td>0.136364</td>\n",
       "      <td>0.8</td>\n",
       "      <td>-0.369697</td>\n",
       "      <td>-0.600</td>\n",
       "      <td>-0.166667</td>\n",
       "      <td>0.000000</td>\n",
       "      <td>0.000000</td>\n",
       "      <td>0.500000</td>\n",
       "      <td>0.000000</td>\n",
       "      <td>1200</td>\n",
       "    </tr>\n",
       "    <tr>\n",
       "      <th>4</th>\n",
       "      <td>http://mashable.com/2013/01/07/att-u-verse-apps/</td>\n",
       "      <td>731.0</td>\n",
       "      <td>13.0</td>\n",
       "      <td>1072.0</td>\n",
       "      <td>0.415646</td>\n",
       "      <td>1.0</td>\n",
       "      <td>0.540890</td>\n",
       "      <td>19.0</td>\n",
       "      <td>19.0</td>\n",
       "      <td>20.0</td>\n",
       "      <td>...</td>\n",
       "      <td>0.033333</td>\n",
       "      <td>1.0</td>\n",
       "      <td>-0.220192</td>\n",
       "      <td>-0.500</td>\n",
       "      <td>-0.050000</td>\n",
       "      <td>0.454545</td>\n",
       "      <td>0.136364</td>\n",
       "      <td>0.045455</td>\n",
       "      <td>0.136364</td>\n",
       "      <td>505</td>\n",
       "    </tr>\n",
       "  </tbody>\n",
       "</table>\n",
       "<p>5 rows × 61 columns</p>\n",
       "</div>"
      ],
      "text/plain": [
       "                                                 url   timedelta  \\\n",
       "0  http://mashable.com/2013/01/07/amazon-instant-...       731.0   \n",
       "1  http://mashable.com/2013/01/07/ap-samsung-spon...       731.0   \n",
       "2  http://mashable.com/2013/01/07/apple-40-billio...       731.0   \n",
       "3  http://mashable.com/2013/01/07/astronaut-notre...       731.0   \n",
       "4   http://mashable.com/2013/01/07/att-u-verse-apps/       731.0   \n",
       "\n",
       "    n_tokens_title   n_tokens_content   n_unique_tokens   n_non_stop_words  \\\n",
       "0             12.0              219.0          0.663594                1.0   \n",
       "1              9.0              255.0          0.604743                1.0   \n",
       "2              9.0              211.0          0.575130                1.0   \n",
       "3              9.0              531.0          0.503788                1.0   \n",
       "4             13.0             1072.0          0.415646                1.0   \n",
       "\n",
       "    n_non_stop_unique_tokens   num_hrefs   num_self_hrefs   num_imgs  ...  \\\n",
       "0                   0.815385         4.0              2.0        1.0  ...   \n",
       "1                   0.791946         3.0              1.0        1.0  ...   \n",
       "2                   0.663866         3.0              1.0        1.0  ...   \n",
       "3                   0.665635         9.0              0.0        1.0  ...   \n",
       "4                   0.540890        19.0             19.0       20.0  ...   \n",
       "\n",
       "    min_positive_polarity   max_positive_polarity   avg_negative_polarity  \\\n",
       "0                0.100000                     0.7               -0.350000   \n",
       "1                0.033333                     0.7               -0.118750   \n",
       "2                0.100000                     1.0               -0.466667   \n",
       "3                0.136364                     0.8               -0.369697   \n",
       "4                0.033333                     1.0               -0.220192   \n",
       "\n",
       "    min_negative_polarity   max_negative_polarity   title_subjectivity  \\\n",
       "0                  -0.600               -0.200000             0.500000   \n",
       "1                  -0.125               -0.100000             0.000000   \n",
       "2                  -0.800               -0.133333             0.000000   \n",
       "3                  -0.600               -0.166667             0.000000   \n",
       "4                  -0.500               -0.050000             0.454545   \n",
       "\n",
       "    title_sentiment_polarity   abs_title_subjectivity  \\\n",
       "0                  -0.187500                 0.000000   \n",
       "1                   0.000000                 0.500000   \n",
       "2                   0.000000                 0.500000   \n",
       "3                   0.000000                 0.500000   \n",
       "4                   0.136364                 0.045455   \n",
       "\n",
       "    abs_title_sentiment_polarity   shares  \n",
       "0                       0.187500      593  \n",
       "1                       0.000000      711  \n",
       "2                       0.000000     1500  \n",
       "3                       0.000000     1200  \n",
       "4                       0.136364      505  \n",
       "\n",
       "[5 rows x 61 columns]"
      ]
     },
     "execution_count": 9,
     "metadata": {},
     "output_type": "execute_result"
    }
   ],
   "source": [
    "news_df = pd.read_csv(\"OnlineNewsPopularity/OnlineNewsPopularity.csv\")\n",
    "news_df.head()"
   ]
  },
  {
   "cell_type": "code",
   "execution_count": 10,
   "metadata": {},
   "outputs": [],
   "source": [
    "# shredding the whitespaces in the dataset columns\n",
    "columns = [col.strip() for col in news_df.columns]\n",
    "news_df.columns = columns"
   ]
  },
  {
   "cell_type": "code",
   "execution_count": 11,
   "metadata": {},
   "outputs": [],
   "source": [
    "# changing the continuous target class to binary\n",
    "news_df.loc[news_df['shares'] < 1500, 'shares'] = 0\n",
    "news_df.loc[news_df['shares'] >= 1500, 'shares'] = 1"
   ]
  },
  {
   "cell_type": "code",
   "execution_count": 12,
   "metadata": {},
   "outputs": [],
   "source": [
    "# removing the 'url' and 'timedelta' column as they are non-predictive\n",
    "news_df.drop(['url', 'timedelta'], axis=1, inplace=True)"
   ]
  },
  {
   "cell_type": "code",
   "execution_count": 13,
   "metadata": {},
   "outputs": [
    {
     "name": "stderr",
     "output_type": "stream",
     "text": [
      "C:\\Users\\Admin\\Anaconda3\\lib\\site-packages\\ipykernel_launcher.py:3: SettingWithCopyWarning: \n",
      "A value is trying to be set on a copy of a slice from a DataFrame.\n",
      "Try using .loc[row_indexer,col_indexer] = value instead\n",
      "\n",
      "See the caveats in the documentation: http://pandas.pydata.org/pandas-docs/stable/user_guide/indexing.html#returning-a-view-versus-a-copy\n",
      "  This is separate from the ipykernel package so we can avoid doing imports until\n",
      "C:\\Users\\Admin\\Anaconda3\\lib\\site-packages\\pandas\\core\\generic.py:6287: SettingWithCopyWarning: \n",
      "A value is trying to be set on a copy of a slice from a DataFrame\n",
      "\n",
      "See the caveats in the documentation: http://pandas.pydata.org/pandas-docs/stable/user_guide/indexing.html#returning-a-view-versus-a-copy\n",
      "  self._update_inplace(new_data)\n"
     ]
    }
   ],
   "source": [
    "# adding a new column for weekday in the news_df using temp variable\n",
    "temp = news_df[['weekday_is_monday','weekday_is_tuesday','weekday_is_wednesday', 'weekday_is_thursday', 'weekday_is_friday']]\n",
    "temp['is_weekday'] = np.NaN\n",
    "\n",
    "# changing the is_weekday as per weekday values\n",
    "for index, row in temp.iterrows():\n",
    "    if (row['weekday_is_monday'] == 1.0 or row['weekday_is_tuesday'] == 1.0 or row['weekday_is_wednesday'] == 1.0 or row['weekday_is_thursday'] == 1.0 or row['weekday_is_friday'] == 1.0):\n",
    "        row['is_weekday'] = 1.0\n",
    "\n",
    "# indices of the empty rows\n",
    "# np.argwhere(np.isnan(temp['is_weekday']))\n",
    "\n",
    "# total number of null/empty values in dataframe\n",
    "# temp.isna().sum()\n",
    "\n",
    "# fill the empty values with 0\n",
    "temp['is_weekday'].fillna(0.0, inplace=True)\n",
    "\n",
    "# assigning the temp variable to the news_df\n",
    "news_df['is_weekday'] = temp['is_weekday']\n",
    "\n",
    "# dropping the separated days column\n",
    "news_df.drop(['weekday_is_monday','weekday_is_tuesday','weekday_is_wednesday', 'weekday_is_thursday', 'weekday_is_friday','weekday_is_sunday','weekday_is_saturday'], axis=1, inplace=True)\n",
    "\n",
    "# news_df['is_weekday'].value_counts()"
   ]
  },
  {
   "cell_type": "code",
   "execution_count": 14,
   "metadata": {},
   "outputs": [],
   "source": [
    "# drop unimportant columns\n",
    "news_df = news_df.drop(['n_non_stop_words', 'n_unique_tokens', 'num_videos', 'n_non_stop_unique_tokens',\n",
    "'kw_min_max', 'data_channel_is_lifestyle', 'data_channel_is_socmed', 'data_channel_is_tech', 'data_channel_is_world',\n",
    "'data_channel_is_entertainment', 'data_channel_is_bus', 'self_reference_min_shares', 'self_reference_max_shares',\n",
    "'avg_negative_polarity', 'min_positive_polarity', 'avg_positive_polarity', 'max_positive_polarity',\n",
    "'min_negative_polarity', 'max_negative_polarity', 'abs_title_subjectivity'], axis=1)"
   ]
  },
  {
   "cell_type": "code",
   "execution_count": 15,
   "metadata": {},
   "outputs": [],
   "source": [
    "# putting the dataframe in X and splitting in test-train\n",
    "y = news_df['shares']\n",
    "news_df.drop(['shares'], axis=1, inplace=True)\n",
    "X = news_df.copy(deep=True)\n",
    "# scaling the values between the range 0 to 1\n",
    "scaler = MinMaxScaler(copy=True, feature_range=(0, 1))\n",
    "X = scaler.fit_transform(X)\n",
    "# Divide in test train data\n",
    "X_train,X_test,y_train,y_test=train_test_split(X,y,test_size=0.25,random_state=0)"
   ]
  },
  {
   "cell_type": "markdown",
   "metadata": {},
   "source": [
    "### Model fitting with Baseline models"
   ]
  },
  {
   "cell_type": "code",
   "execution_count": 16,
   "metadata": {},
   "outputs": [],
   "source": [
    "# cross validation (n=10)\n",
    "cv_kfold = KFold(n_splits=10, random_state=None, shuffle=False)"
   ]
  },
  {
   "cell_type": "code",
   "execution_count": 38,
   "metadata": {},
   "outputs": [
    {
     "name": "stderr",
     "output_type": "stream",
     "text": [
      "C:\\Users\\Admin\\Anaconda3\\lib\\site-packages\\sklearn\\linear_model\\logistic.py:432: FutureWarning: Default solver will be changed to 'lbfgs' in 0.22. Specify a solver to silence this warning.\n",
      "  FutureWarning)\n",
      "C:\\Users\\Admin\\Anaconda3\\lib\\site-packages\\sklearn\\linear_model\\logistic.py:432: FutureWarning: Default solver will be changed to 'lbfgs' in 0.22. Specify a solver to silence this warning.\n",
      "  FutureWarning)\n",
      "C:\\Users\\Admin\\Anaconda3\\lib\\site-packages\\sklearn\\linear_model\\logistic.py:432: FutureWarning: Default solver will be changed to 'lbfgs' in 0.22. Specify a solver to silence this warning.\n",
      "  FutureWarning)\n",
      "C:\\Users\\Admin\\Anaconda3\\lib\\site-packages\\sklearn\\linear_model\\logistic.py:432: FutureWarning: Default solver will be changed to 'lbfgs' in 0.22. Specify a solver to silence this warning.\n",
      "  FutureWarning)\n",
      "C:\\Users\\Admin\\Anaconda3\\lib\\site-packages\\sklearn\\linear_model\\logistic.py:432: FutureWarning: Default solver will be changed to 'lbfgs' in 0.22. Specify a solver to silence this warning.\n",
      "  FutureWarning)\n",
      "C:\\Users\\Admin\\Anaconda3\\lib\\site-packages\\sklearn\\linear_model\\logistic.py:432: FutureWarning: Default solver will be changed to 'lbfgs' in 0.22. Specify a solver to silence this warning.\n",
      "  FutureWarning)\n",
      "C:\\Users\\Admin\\Anaconda3\\lib\\site-packages\\sklearn\\linear_model\\logistic.py:432: FutureWarning: Default solver will be changed to 'lbfgs' in 0.22. Specify a solver to silence this warning.\n",
      "  FutureWarning)\n",
      "C:\\Users\\Admin\\Anaconda3\\lib\\site-packages\\sklearn\\linear_model\\logistic.py:432: FutureWarning: Default solver will be changed to 'lbfgs' in 0.22. Specify a solver to silence this warning.\n",
      "  FutureWarning)\n",
      "C:\\Users\\Admin\\Anaconda3\\lib\\site-packages\\sklearn\\linear_model\\logistic.py:432: FutureWarning: Default solver will be changed to 'lbfgs' in 0.22. Specify a solver to silence this warning.\n",
      "  FutureWarning)\n",
      "C:\\Users\\Admin\\Anaconda3\\lib\\site-packages\\sklearn\\linear_model\\logistic.py:432: FutureWarning: Default solver will be changed to 'lbfgs' in 0.22. Specify a solver to silence this warning.\n",
      "  FutureWarning)\n",
      "C:\\Users\\Admin\\Anaconda3\\lib\\site-packages\\sklearn\\linear_model\\logistic.py:432: FutureWarning: Default solver will be changed to 'lbfgs' in 0.22. Specify a solver to silence this warning.\n",
      "  FutureWarning)\n"
     ]
    },
    {
     "name": "stdout",
     "output_type": "stream",
     "text": [
      "[0.61634163 0.63853396 0.63819771 0.63437605 0.64177598 0.63202153\n",
      " 0.63134881 0.63841238 0.63303061 0.64614867]\n",
      "Accuracy: 63.50%\n",
      "[[3275 1798]\n",
      " [1865 2973]]\n",
      "0.6304106548279689\n",
      "              precision    recall  f1-score   support\n",
      "\n",
      "           0       0.64      0.65      0.64      5073\n",
      "           1       0.62      0.61      0.62      4838\n",
      "\n",
      "    accuracy                           0.63      9911\n",
      "   macro avg       0.63      0.63      0.63      9911\n",
      "weighted avg       0.63      0.63      0.63      9911\n",
      "\n"
     ]
    }
   ],
   "source": [
    "# Linear model\n",
    "log_classifier = LogisticRegression()\n",
    "log_classifier.fit(X_train, y_train)\n",
    "y_pred = log_classifier.predict(X_test)\n",
    "# print('Linear SVC score: {}' .format(linear_svc_classifier.score(X_test, y_test)))\n",
    "# calculating final score using cross validation (n=10)\n",
    "results = cross_val_score(log_classifier, X_train, y_train, cv=cv_kfold)\n",
    "print(results)\n",
    "print(\"Accuracy: %.2f%%\" % (results.mean()*100))\n",
    "# confusion matrix\n",
    "cm = confusion_matrix(y_test, y_pred)\n",
    "print(cm)\n",
    "accuracy = accuracy_score(y_test, y_pred)\n",
    "print(accuracy)\n",
    "# minority class recall and precision\n",
    "print(classification_report(y_test, y_pred))"
   ]
  },
  {
   "cell_type": "code",
   "execution_count": 40,
   "metadata": {},
   "outputs": [
    {
     "name": "stdout",
     "output_type": "stream",
     "text": [
      "[0.57027572 0.56758574 0.55884331 0.58324924 0.5835856  0.56138581\n",
      " 0.56844938 0.56239489 0.5835856  0.58291288]\n",
      "Accuracy: 57.22%\n",
      "[[2885 2188]\n",
      " [2096 2742]]\n",
      "0.5677530017152659\n",
      "              precision    recall  f1-score   support\n",
      "\n",
      "           0       0.58      0.57      0.57      5073\n",
      "           1       0.56      0.57      0.56      4838\n",
      "\n",
      "    accuracy                           0.57      9911\n",
      "   macro avg       0.57      0.57      0.57      9911\n",
      "weighted avg       0.57      0.57      0.57      9911\n",
      "\n"
     ]
    }
   ],
   "source": [
    "# Tree based model\n",
    "tree_classifier = DecisionTreeClassifier()\n",
    "tree_classifier.fit(X_train, y_train)\n",
    "y_pred = tree_classifier.predict(X_test)\n",
    "# calculating final score using cross validation (n=10)\n",
    "results = cross_val_score(tree_classifier, X_train, y_train, cv=cv_kfold)\n",
    "print(results)\n",
    "print(\"Accuracy: %.2f%%\" % (results.mean()*100))\n",
    "# confusion matrix\n",
    "cm = confusion_matrix(y_test, y_pred)\n",
    "print(cm)\n",
    "accuracy = accuracy_score(y_test, y_pred)\n",
    "print(accuracy)\n",
    "# minority class recall and precision\n",
    "print(classification_report(y_test, y_pred))"
   ]
  },
  {
   "cell_type": "code",
   "execution_count": 42,
   "metadata": {},
   "outputs": [
    {
     "name": "stdout",
     "output_type": "stream",
     "text": [
      "[0.48856759 0.48789509 0.50067249 0.50016818 0.49781366 0.48368651\n",
      " 0.50218634 0.48234107 0.50992264 0.48772284]\n",
      "Accuracy: 49.41%\n",
      "[[2597 2476]\n",
      " [2398 2440]]\n",
      "0.5082231863585914\n",
      "              precision    recall  f1-score   support\n",
      "\n",
      "           0       0.52      0.51      0.52      5073\n",
      "           1       0.50      0.50      0.50      4838\n",
      "\n",
      "    accuracy                           0.51      9911\n",
      "   macro avg       0.51      0.51      0.51      9911\n",
      "weighted avg       0.51      0.51      0.51      9911\n",
      "\n"
     ]
    }
   ],
   "source": [
    "# Rule‐based model\n",
    "classifier = DummyClassifier()\n",
    "classifier.fit(X_train, y_train)\n",
    "y_pred = classifier.predict(X_test)\n",
    "# calculating final score using cross validation (n=10)\n",
    "results = cross_val_score(classifier, X_train, y_train, cv=cv_kfold)\n",
    "print(results)\n",
    "print(\"Accuracy: %.2f%%\" % (results.mean()*100))\n",
    "# confusion matrix\n",
    "cm = confusion_matrix(y_test, y_pred)\n",
    "print(cm)\n",
    "accuracy = accuracy_score(y_test, y_pred)\n",
    "print(accuracy)\n",
    "# minority class recall and precision\n",
    "print(classification_report(y_test, y_pred))"
   ]
  },
  {
   "cell_type": "code",
   "execution_count": 44,
   "metadata": {},
   "outputs": [
    {
     "name": "stdout",
     "output_type": "stream",
     "text": [
      "[0.59381305 0.61163416 0.60087424 0.58661285 0.60713084 0.58997645\n",
      " 0.60309452 0.59737639 0.5946855  0.61385806]\n",
      "Accuracy: 59.99%\n",
      "[[3438 1635]\n",
      " [2326 2512]]\n",
      "0.6003430531732419\n",
      "              precision    recall  f1-score   support\n",
      "\n",
      "           0       0.60      0.68      0.63      5073\n",
      "           1       0.61      0.52      0.56      4838\n",
      "\n",
      "    accuracy                           0.60      9911\n",
      "   macro avg       0.60      0.60      0.60      9911\n",
      "weighted avg       0.60      0.60      0.60      9911\n",
      "\n"
     ]
    }
   ],
   "source": [
    "# Probabilistic model (Naïve Bayesian)\n",
    "nb_classifier = MultinomialNB()\n",
    "nb_classifier.fit(X_train, y_train)\n",
    "y_pred = nb_classifier.predict(X_test)\n",
    "# calculating final score using cross validation (n=10)\n",
    "results = cross_val_score(nb_classifier, X_train, y_train, cv=cv_kfold)\n",
    "print(results)\n",
    "print(\"Accuracy: %.2f%%\" % (results.mean()*100))\n",
    "# confusion matrix\n",
    "cm = confusion_matrix(y_test, y_pred)\n",
    "print(cm)\n",
    "accuracy = accuracy_score(y_test, y_pred)\n",
    "print(accuracy)\n",
    "# minority class recall and precision\n",
    "print(classification_report(y_test, y_pred))"
   ]
  },
  {
   "cell_type": "code",
   "execution_count": 46,
   "metadata": {},
   "outputs": [
    {
     "name": "stdout",
     "output_type": "stream",
     "text": [
      "[0.57767317 0.58809684 0.58776059 0.59502186 0.5691221  0.58459469\n",
      " 0.58694921 0.58560377 0.58896737 0.57214934]\n",
      "Accuracy: 58.36%\n",
      "[[3085 1988]\n",
      " [2120 2718]]\n",
      "0.5855110483301382\n",
      "              precision    recall  f1-score   support\n",
      "\n",
      "           0       0.59      0.61      0.60      5073\n",
      "           1       0.58      0.56      0.57      4838\n",
      "\n",
      "    accuracy                           0.59      9911\n",
      "   macro avg       0.59      0.58      0.58      9911\n",
      "weighted avg       0.59      0.59      0.59      9911\n",
      "\n"
     ]
    }
   ],
   "source": [
    "# Distance based model\n",
    "classifier = KNeighborsClassifier(n_neighbors=3)\n",
    "classifier.fit(X_train, y_train)\n",
    "y_pred = classifier.predict(X_test)\n",
    "# calculating final score using cross validation (n=10)\n",
    "results = cross_val_score(classifier, X_train, y_train, cv=cv_kfold)\n",
    "print(results)\n",
    "print(\"Accuracy: %.2f%%\" % (results.mean()*100))\n",
    "# confusion matrix\n",
    "cm = confusion_matrix(y_test, y_pred)\n",
    "print(cm)\n",
    "accuracy = accuracy_score(y_test, y_pred)\n",
    "print(accuracy)\n",
    "# minority class recall and precision\n",
    "print(classification_report(y_test, y_pred))"
   ]
  },
  {
   "cell_type": "markdown",
   "metadata": {},
   "source": [
    "### Model fitting with Ensembles"
   ]
  },
  {
   "cell_type": "code",
   "execution_count": 22,
   "metadata": {},
   "outputs": [
    {
     "name": "stdout",
     "output_type": "stream",
     "text": [
      "[0.60726295 0.61667787 0.62508406 0.62361251 0.63067608 0.61083081\n",
      " 0.62058527 0.62159435 0.63067608 0.65321224]\n",
      "Accuracy: 62.40%\n",
      "[[3202 1871]\n",
      " [1820 3018]]\n",
      "0.6275855110483302\n",
      "              precision    recall  f1-score   support\n",
      "\n",
      "           0       0.64      0.63      0.63      5073\n",
      "           1       0.62      0.62      0.62      4838\n",
      "\n",
      "    accuracy                           0.63      9911\n",
      "   macro avg       0.63      0.63      0.63      9911\n",
      "weighted avg       0.63      0.63      0.63      9911\n",
      "\n"
     ]
    }
   ],
   "source": [
    "# Ref- https://scikit-learn.org/stable/modules/ensemble.html\n",
    "# Random forest\n",
    "rf_classifier = RandomForestClassifier(n_estimators=15)\n",
    "rf_classifier.fit(X_train, y_train)\n",
    "y_pred = rf_classifier.predict(X_test)\n",
    "# calculating final score using cross validation (n=10)\n",
    "rf_results = cross_val_score(rf_classifier, X_train, y_train, cv=cv_kfold)\n",
    "print(rf_results)\n",
    "print(\"Accuracy: %.2f%%\" % (rf_results.mean()*100))\n",
    "# confusion matrix\n",
    "cm = confusion_matrix(y_test, y_pred)\n",
    "print(cm)\n",
    "accuracy = accuracy_score(y_test, y_pred)\n",
    "print(accuracy)\n",
    "# minority class recall and precision\n",
    "print(classification_report(y_test, y_pred))"
   ]
  },
  {
   "cell_type": "code",
   "execution_count": 28,
   "metadata": {},
   "outputs": [
    {
     "name": "stdout",
     "output_type": "stream",
     "text": [
      "[0.65400134 0.65030262 0.65770007 0.66162126 0.65220316 0.65691221\n",
      " 0.65253952 0.65253952 0.65724857 0.6646485 ]\n",
      "Accuracy: 65.60%\n",
      "[[3323 1750]\n",
      " [1699 3139]]\n",
      "0.6520028251437796\n",
      "              precision    recall  f1-score   support\n",
      "\n",
      "           0       0.66      0.66      0.66      5073\n",
      "           1       0.64      0.65      0.65      4838\n",
      "\n",
      "    accuracy                           0.65      9911\n",
      "   macro avg       0.65      0.65      0.65      9911\n",
      "weighted avg       0.65      0.65      0.65      9911\n",
      "\n"
     ]
    }
   ],
   "source": [
    "# Gradient boost\n",
    "gradient_classifier = GradientBoostingClassifier()\n",
    "gradient_classifier.fit(X_train, y_train)\n",
    "y_pred = gradient_classifier.predict(X_test)\n",
    "# calculating final score using cross validation (n=10)\n",
    "gradient_results = cross_val_score(gradient_classifier, X_train, y_train, cv=cv_kfold)\n",
    "print(gradient_results)\n",
    "print(\"Accuracy: %.2f%%\" % (gradient_results.mean()*100))\n",
    "# confusion matrix\n",
    "cm = confusion_matrix(y_test, y_pred)\n",
    "print(cm)\n",
    "accuracy = accuracy_score(y_test, y_pred)\n",
    "print(accuracy)\n",
    "# minority class recall and precision\n",
    "print(classification_report(y_test, y_pred))"
   ]
  },
  {
   "cell_type": "code",
   "execution_count": 49,
   "metadata": {},
   "outputs": [
    {
     "name": "stdout",
     "output_type": "stream",
     "text": [
      "[0.65097512 0.64525891 0.65702757 0.64009418 0.64783047 0.64244871\n",
      " 0.64917592 0.64547595 0.64715775 0.65825765]\n",
      "Accuracy: 64.84%\n",
      "[[3374 1699]\n",
      " [1836 3002]]\n",
      "0.6433255978206034\n",
      "              precision    recall  f1-score   support\n",
      "\n",
      "           0       0.65      0.67      0.66      5073\n",
      "           1       0.64      0.62      0.63      4838\n",
      "\n",
      "    accuracy                           0.64      9911\n",
      "   macro avg       0.64      0.64      0.64      9911\n",
      "weighted avg       0.64      0.64      0.64      9911\n",
      "\n"
     ]
    }
   ],
   "source": [
    "# Voting classifier\n",
    "# creating a dictionary and add desired models\n",
    "models = [('rf', rf_classifier), ('Gradient', gradient_classifier), ('Multinomial', nb_classifier)]\n",
    "\n",
    "# creating the voting classifier and inputting the models\n",
    "custom_ensemble = VotingClassifier(models, voting='hard')\n",
    "custom_ensemble.fit(X_train, y_train)\n",
    "custom_ensemble.score(X_test, y_test)\n",
    "y_pred = custom_ensemble.predict(X_test)\n",
    "# calculating final score using cross validation (n=10)\n",
    "voting_results = cross_val_score(custom_ensemble, X_train, y_train, cv=cv_kfold)\n",
    "print(voting_results)\n",
    "print(\"Accuracy: %.2f%%\" % (voting_results.mean()*100))\n",
    "# confusion matrix\n",
    "cm = confusion_matrix(y_test, y_pred)\n",
    "print(cm)\n",
    "accuracy = accuracy_score(y_test, y_pred)\n",
    "print(accuracy)\n",
    "# minority class recall and precision\n",
    "print(classification_report(y_test, y_pred))"
   ]
  },
  {
   "cell_type": "code",
   "execution_count": 37,
   "metadata": {},
   "outputs": [
    {
     "data": {
      "text/plain": [
       "['C:\\\\Users\\\\Admin\\\\Documents\\\\uOttawa courses\\\\ML\\\\Project\\\\Saved_Models\\\\VO']"
      ]
     },
     "execution_count": 37,
     "metadata": {},
     "output_type": "execute_result"
    }
   ],
   "source": [
    "# saving the classifiers 10 fold results so we do not run it again\n",
    "filepath1 = r'C:\\Users\\Admin\\Documents\\uOttawa courses\\ML\\Project\\Saved_Models\\LR'\n",
    "filepath2 = r'C:\\Users\\Admin\\Documents\\uOttawa courses\\ML\\Project\\Saved_Models\\GR'\n",
    "filepath3 = r'C:\\Users\\Admin\\Documents\\uOttawa courses\\ML\\Project\\Saved_Models\\VO'\n",
    "joblib.dump(rf_results, filepath1)\n",
    "joblib.dump(gradient_results, filepath2)\n",
    "joblib.dump(voting_results, filepath3)"
   ]
  },
  {
   "cell_type": "markdown",
   "metadata": {},
   "source": [
    "### ROC-AUC"
   ]
  },
  {
   "cell_type": "code",
   "execution_count": 39,
   "metadata": {},
   "outputs": [
    {
     "name": "stdout",
     "output_type": "stream",
     "text": [
      "AUC = 0.6300423694180712\n"
     ]
    },
    {
     "data": {
      "image/png": "[encoded data removed]",
      "text/plain": [
       "<Figure size 432x288 with 1 Axes>"
      ]
     },
     "metadata": {
      "needs_background": "light"
     },
     "output_type": "display_data"
    }
   ],
   "source": [
    "# ROC for linear logistic model\n",
    "# calculating FPR and TPR\n",
    "fpr, tpr, thresholds = metrics.roc_curve(y_test, y_pred)\n",
    "# calculating Area under the curve\n",
    "auc = metrics.roc_auc_score(y_test, y_pred)\n",
    "print(\"AUC = \" + str(auc))\n",
    "\n",
    "pyplot.plot([0, 1], [0, 1], linestyle='--')\n",
    "# plot the roc curve for the model\n",
    "pyplot.plot(fpr, tpr, marker='.')\n",
    "pyplot.show()"
   ]
  },
  {
   "cell_type": "code",
   "execution_count": 41,
   "metadata": {},
   "outputs": [
    {
     "name": "stdout",
     "output_type": "stream",
     "text": [
      "AUC = 0.5677300743579456\n"
     ]
    },
    {
     "data": {
      "image/png": "[encoded data removed]",
      "text/plain": [
       "<Figure size 432x288 with 1 Axes>"
      ]
     },
     "metadata": {
      "needs_background": "light"
     },
     "output_type": "display_data"
    }
   ],
   "source": [
    "# ROC for linear Decision tree model\n",
    "# calculating FPR and TPR\n",
    "fpr, tpr, thresholds = metrics.roc_curve(y_test, y_pred)\n",
    "# calculating Area under the curve\n",
    "auc = metrics.roc_auc_score(y_test, y_pred)\n",
    "print(\"AUC = \" + str(auc))\n",
    "\n",
    "pyplot.plot([0, 1], [0, 1], linestyle='--')\n",
    "# plot the roc curve for the model\n",
    "pyplot.plot(fpr, tpr, marker='.')\n",
    "pyplot.show()"
   ]
  },
  {
   "cell_type": "code",
   "execution_count": 43,
   "metadata": {},
   "outputs": [
    {
     "name": "stdout",
     "output_type": "stream",
     "text": [
      "AUC = 0.508133259373869\n"
     ]
    },
    {
     "data": {
      "image/png": "[encoded data removed]",
      "text/plain": [
       "<Figure size 432x288 with 1 Axes>"
      ]
     },
     "metadata": {
      "needs_background": "light"
     },
     "output_type": "display_data"
    }
   ],
   "source": [
    "# ROC for linear Dummy rule based model\n",
    "# calculating FPR and TPR\n",
    "fpr, tpr, thresholds = metrics.roc_curve(y_test, y_pred)\n",
    "# calculating Area under the curve\n",
    "auc = metrics.roc_auc_score(y_test, y_pred)\n",
    "print(\"AUC = \" + str(auc))\n",
    "\n",
    "pyplot.plot([0, 1], [0, 1], linestyle='--')\n",
    "# plot the roc curve for the model\n",
    "pyplot.plot(fpr, tpr, marker='.')\n",
    "pyplot.show()"
   ]
  },
  {
   "cell_type": "code",
   "execution_count": 45,
   "metadata": {},
   "outputs": [
    {
     "name": "stdout",
     "output_type": "stream",
     "text": [
      "AUC = 0.5984641595255773\n"
     ]
    },
    {
     "data": {
      "image/png": "[encoded data removed]",
      "text/plain": [
       "<Figure size 432x288 with 1 Axes>"
      ]
     },
     "metadata": {
      "needs_background": "light"
     },
     "output_type": "display_data"
    }
   ],
   "source": [
    "# ROC for linear MultinomialNB model\n",
    "# calculating FPR and TPR\n",
    "fpr, tpr, thresholds = metrics.roc_curve(y_test, y_pred)\n",
    "# calculating Area under the curve\n",
    "auc = metrics.roc_auc_score(y_test, y_pred)\n",
    "print(\"AUC = \" + str(auc))\n",
    "\n",
    "pyplot.plot([0, 1], [0, 1], linestyle='--')\n",
    "# plot the roc curve for the model\n",
    "pyplot.plot(fpr, tpr, marker='.')\n",
    "pyplot.show()"
   ]
  },
  {
   "cell_type": "code",
   "execution_count": 47,
   "metadata": {},
   "outputs": [
    {
     "name": "stdout",
     "output_type": "stream",
     "text": [
      "AUC = 0.584961912424204\n"
     ]
    },
    {
     "data": {
      "image/png": "[encoded data removed]",
      "text/plain": [
       "<Figure size 432x288 with 1 Axes>"
      ]
     },
     "metadata": {
      "needs_background": "light"
     },
     "output_type": "display_data"
    }
   ],
   "source": [
    "# ROC for linear KNN model\n",
    "# calculating FPR and TPR\n",
    "fpr, tpr, thresholds = metrics.roc_curve(y_test, y_pred)\n",
    "# calculating Area under the curve\n",
    "auc = metrics.roc_auc_score(y_test, y_pred)\n",
    "print(\"AUC = \" + str(auc))\n",
    "\n",
    "pyplot.plot([0, 1], [0, 1], linestyle='--')\n",
    "# plot the roc curve for the model\n",
    "pyplot.plot(fpr, tpr, marker='.')\n",
    "pyplot.show()"
   ]
  },
  {
   "cell_type": "code",
   "execution_count": 48,
   "metadata": {},
   "outputs": [
    {
     "name": "stdout",
     "output_type": "stream",
     "text": [
      "AUC = 0.584961912424204\n"
     ]
    },
    {
     "data": {
      "image/png": "[encoded data removed]",
      "text/plain": [
       "<Figure size 432x288 with 1 Axes>"
      ]
     },
     "metadata": {
      "needs_background": "light"
     },
     "output_type": "display_data"
    }
   ],
   "source": [
    "# ROC for linear Random forest model\n",
    "# calculating FPR and TPR\n",
    "fpr, tpr, thresholds = metrics.roc_curve(y_test, y_pred)\n",
    "# calculating Area under the curve\n",
    "auc = metrics.roc_auc_score(y_test, y_pred)\n",
    "print(\"AUC = \" + str(auc))\n",
    "\n",
    "pyplot.plot([0, 1], [0, 1], linestyle='--')\n",
    "# plot the roc curve for the model\n",
    "pyplot.plot(fpr, tpr, marker='.')\n",
    "pyplot.show()"
   ]
  },
  {
   "cell_type": "code",
   "execution_count": 30,
   "metadata": {},
   "outputs": [
    {
     "name": "stdout",
     "output_type": "stream",
     "text": [
      "AUC = 0.6519291473873754\n"
     ]
    },
    {
     "data": {
      "image/png": "[encoded data removed]",
      "text/plain": [
       "<Figure size 432x288 with 1 Axes>"
      ]
     },
     "metadata": {
      "needs_background": "light"
     },
     "output_type": "display_data"
    }
   ],
   "source": [
    "# ROC for Gradient boost model\n",
    "# calculating FPR and TPR\n",
    "fpr, tpr, thresholds = metrics.roc_curve(y_test, y_pred)\n",
    "# calculating Area under the curve\n",
    "auc = metrics.roc_auc_score(y_test, y_pred)\n",
    "print(\"AUC = \" + str(auc))\n",
    "\n",
    "pyplot.plot([0, 1], [0, 1], linestyle='--')\n",
    "# plot the roc curve for the model\n",
    "pyplot.plot(fpr, tpr, marker='.')\n",
    "pyplot.show()"
   ]
  },
  {
   "cell_type": "code",
   "execution_count": 50,
   "metadata": {},
   "outputs": [
    {
     "name": "stdout",
     "output_type": "stream",
     "text": [
      "AUC = 0.6427970155775289\n"
     ]
    },
    {
     "data": {
      "image/png": "[encoded data removed]",
      "text/plain": [
       "<Figure size 432x288 with 1 Axes>"
      ]
     },
     "metadata": {
      "needs_background": "light"
     },
     "output_type": "display_data"
    }
   ],
   "source": [
    "# ROC for Voting classifier model\n",
    "# calculating FPR and TPR\n",
    "fpr, tpr, thresholds = metrics.roc_curve(y_test, y_pred)\n",
    "# calculating Area under the curve\n",
    "auc = metrics.roc_auc_score(y_test, y_pred)\n",
    "print(\"AUC = \" + str(auc))\n",
    "\n",
    "pyplot.plot([0, 1], [0, 1], linestyle='--')\n",
    "# plot the roc curve for the model\n",
    "pyplot.plot(fpr, tpr, marker='.')\n",
    "pyplot.show()"
   ]
  }
 ],
 "metadata": {
  "kernelspec": {
   "display_name": "Python 3",
   "language": "python",
   "name": "python3"
  },
  "language_info": {
   "codemirror_mode": {
    "name": "ipython",
    "version": 3
   },
   "file_extension": ".py",
   "mimetype": "text/x-python",
   "name": "python",
   "nbconvert_exporter": "python",
   "pygments_lexer": "ipython3",
   "version": "3.6.5"
  }
 },
 "nbformat": 4,
 "nbformat_minor": 2
}
