{
 "cells": [
  {
   "cell_type": "markdown",
   "metadata": {},
   "source": [
    "### Statistical Testing"
   ]
  },
  {
   "cell_type": "code",
   "execution_count": 9,
   "metadata": {},
   "outputs": [],
   "source": [
    "from sklearn.externals import joblib\n",
    "from scipy import stats"
   ]
  },
  {
   "cell_type": "code",
   "execution_count": 6,
   "metadata": {},
   "outputs": [],
   "source": [
    "# load the saved models 10 fold results\n",
    "rf_results = joblib.load(r'C:\\Users\\Admin\\Documents\\uOttawa courses\\ML\\Project\\Saved_Models\\LR')\n",
    "gradient_results = joblib.load(r'C:\\Users\\Admin\\Documents\\uOttawa courses\\ML\\Project\\Saved_Models\\GR')\n",
    "voting_results = joblib.load(r'C:\\Users\\Admin\\Documents\\uOttawa courses\\ML\\Project\\Saved_Models\\VO')"
   ]
  },
  {
   "cell_type": "code",
   "execution_count": 7,
   "metadata": {},
   "outputs": [
    {
     "name": "stdout",
     "output_type": "stream",
     "text": [
      "        \u001b[31mRF-GB\u001b[0m         \u001b[31mRF-VO\u001b[0m       \u001b[31mGB-VO\u001b[0m\n",
      "       -0.0467      -0.0424      0.0044\n",
      "       -0.0336      -0.0336      0.0\n",
      "       -0.0326      -0.0323      0.0003\n",
      "       -0.038      -0.0306      0.0074\n",
      "       -0.0215      -0.0178      0.0037\n",
      "       -0.0461      -0.042      0.004\n",
      "       -0.032      -0.0293      0.0027\n",
      "       -0.0309      -0.0306      0.0003\n",
      "       -0.0266      -0.0138      0.0128\n",
      "       -0.0114      -0.0104      0.001\n",
      "mean = -0.032      -0.0283      0.0037\n",
      "std  =  0.0101       0.0104       0.0038\n"
     ]
    }
   ],
   "source": [
    "# Using a paired t-test as we have one dataset and different algorithms\n",
    "# Subtracting the accuracies of ensemble models\n",
    "RF_GB = rf_results - gradient_results\n",
    "RF_VO = rf_results - voting_results\n",
    "GB_VO = gradient_results - voting_results\n",
    "# printing the difference, mean and standard deviation in table form\n",
    "print(\"        \\x1b[31mRF-GB\\x1b[0m         \\x1b[31mRF-VO\\x1b[0m       \\x1b[31mGB-VO\\x1b[0m\")\n",
    "for i in range(10):\n",
    "    print(\"       \" + str(round(RF_GB[i],4)) + \"      \" + str(round(RF_VO[i],4)) + \"      \" + str(round(GB_VO[i],4)))\n",
    "print(\"mean = \"+ str(round(RF_GB.mean(),4)) + \"      \" + str(round(RF_VO.mean(),4)) + \"      \" + str(round(GB_VO.mean(),4)))\n",
    "print(\"std  =  \"+ str(round(RF_GB.std(),4)) + \"       \" + str(round(RF_VO.std(),4)) + \"       \" + str(round(GB_VO.std(),4)))"
   ]
  },
  {
   "cell_type": "code",
   "execution_count": 12,
   "metadata": {},
   "outputs": [
    {
     "name": "stdout",
     "output_type": "stream",
     "text": [
      "(Random Forest - GradientBoost)   \n",
      "t = -7.4509  p = 0.0  Yes, there is significant difference\n",
      "(Random Forest - Voting Classifier)   \n",
      "t = -6.4707  p = 0.0  Yes, there is significant difference\n",
      "(Voting Classifier - GradientBoost)   \n",
      "t = -1.6625  p = 0.1137  No, there is no significant difference\n"
     ]
    }
   ],
   "source": [
    "# Choosing a threshold alpha for our models as 0.05\n",
    "# if p > alpha -> then there's no significance difference between two models\n",
    "# if p < alpha -> then there is  significance difference between two models\n",
    "\n",
    "alpha = 0.05\n",
    "diff = ''\n",
    "\n",
    "t, p = stats.ttest_ind(rf_results , gradient_results)\n",
    "if p > alpha:\n",
    "    diff = '  No, there is no significant difference'\n",
    "else:\n",
    "    diff = '  Yes, there is significant difference'\n",
    "print(\"(Random Forest - GradientBoost)   \\nt = \" + str(round(t,4)) + \"  p = \" + str(round(p,4)) +diff)\n",
    "\n",
    "t, p = stats.ttest_ind(rf_results , voting_results)\n",
    "if p > alpha:\n",
    "    diff = '  No, there is no significant difference'\n",
    "else:\n",
    "    diff = '  Yes, there is significant difference'\n",
    "print(\"(Random Forest - Voting Classifier)   \\nt = \" + str(round(t,4)) + \"  p = \" + str(round(p,4)) +diff)\n",
    "\n",
    "t, p = stats.ttest_ind(voting_results , gradient_results)\n",
    "if p > alpha:\n",
    "    diff = '  No, there is no significant difference'\n",
    "else:\n",
    "    diff = '  Yes, there is significant difference'\n",
    "print(\"(Voting Classifier - GradientBoost)   \\nt = \" + str(round(t,4)) + \"  p = \" + str(round(p,4)) +diff)"
   ]
  }
 ],
 "metadata": {
  "kernelspec": {
   "display_name": "Python 3",
   "language": "python",
   "name": "python3"
  },
  "language_info": {
   "codemirror_mode": {
    "name": "ipython",
    "version": 3
   },
   "file_extension": ".py",
   "mimetype": "text/x-python",
   "name": "python",
   "nbconvert_exporter": "python",
   "pygments_lexer": "ipython3",
   "version": "3.6.5"
  }
 },
 "nbformat": 4,
 "nbformat_minor": 2
}
